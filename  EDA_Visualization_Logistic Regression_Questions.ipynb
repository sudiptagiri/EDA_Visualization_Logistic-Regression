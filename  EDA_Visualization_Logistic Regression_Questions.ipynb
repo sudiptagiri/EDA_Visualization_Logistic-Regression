{
 "cells": [
  {
   "cell_type": "markdown",
   "metadata": {
    "id": "xLlaqIPTdDfF"
   },
   "source": [
    "### 1. Create a Dataframe from the given data, perform basic EDA and check if data cleaning is required."
   ]
  },
  {
   "cell_type": "code",
   "execution_count": null,
   "metadata": {
    "id": "yPIlqPLodFWt"
   },
   "outputs": [],
   "source": []
  },
  {
   "cell_type": "markdown",
   "metadata": {
    "id": "Lv7I1nG5c4um"
   },
   "source": [
    "### 2. Visualize just the categorical features individually to see what options are included and how each option fares when it comes to count(how many times it appears) and see what can be deduce from that?"
   ]
  },
  {
   "cell_type": "code",
   "execution_count": null,
   "metadata": {
    "collapsed": true,
    "id": "0ft4S-jUc4uq"
   },
   "outputs": [],
   "source": []
  },
  {
   "cell_type": "markdown",
   "metadata": {
    "id": "2JCCbxEPc4ut"
   },
   "source": [
    "### 3. Look at some categorical features in relation to each other, to see what insights could be possibly read?"
   ]
  },
  {
   "cell_type": "code",
   "execution_count": null,
   "metadata": {
    "collapsed": true,
    "id": "LV8FGZ4Bc4uu"
   },
   "outputs": [],
   "source": []
  },
  {
   "cell_type": "markdown",
   "metadata": {
    "id": "Ouo92ybBc4uu"
   },
   "source": [
    "### 4. Visualize categorical variables with numerical variables and give \n",
    "\n"
   ]
  },
  {
   "cell_type": "code",
   "execution_count": null,
   "metadata": {
    "collapsed": true,
    "id": "Tha1quBFc4uv"
   },
   "outputs": [],
   "source": []
  },
  {
   "cell_type": "markdown",
   "metadata": {
    "id": "V0hKqu2oc4uv"
   },
   "source": [
    "### 5. From the above result, what are the factors that leads to get low grades of the students?"
   ]
  },
  {
   "cell_type": "code",
   "execution_count": null,
   "metadata": {
    "collapsed": true,
    "id": "39tnHul2c4uv"
   },
   "outputs": [],
   "source": []
  },
  {
   "cell_type": "markdown",
   "metadata": {
    "id": "zIhV3Dtsc4uw"
   },
   "source": [
    "### 6. Build classification model using Logistic Regression and present it's confusion matrix and classification report.\n"
   ]
  },
  {
   "cell_type": "code",
   "execution_count": null,
   "metadata": {
    "collapsed": true,
    "id": "-WiXewvsc4uw"
   },
   "outputs": [],
   "source": []
  },
  {
   "cell_type": "markdown",
   "metadata": {
    "id": "K3TEmFnJdhQr"
   },
   "source": [
    "### 7. Justify the model. Tune the model using various techniques, if need be."
   ]
  },
  {
   "cell_type": "code",
   "execution_count": null,
   "metadata": {
    "id": "ONUgSu50dhzp"
   },
   "outputs": [],
   "source": []
  }
 ],
 "metadata": {
  "colab": {
   "provenance": []
  },
  "kernelspec": {
   "display_name": "Python 3",
   "language": "python",
   "name": "python3"
  },
  "language_info": {
   "codemirror_mode": {
    "name": "ipython",
    "version": 3
   },
   "file_extension": ".py",
   "mimetype": "text/x-python",
   "name": "python",
   "nbconvert_exporter": "python",
   "pygments_lexer": "ipython3",
   "version": "3.7.6"
  }
 },
 "nbformat": 4,
 "nbformat_minor": 1
}
